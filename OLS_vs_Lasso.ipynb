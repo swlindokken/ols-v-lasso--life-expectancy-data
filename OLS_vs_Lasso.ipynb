{
 "cells": [
  {
   "cell_type": "markdown",
   "metadata": {},
   "source": [
    "# Comparing OLS and LASSO Slope Coefficients: A Monte Carlo Simulation\n",
    "\n",
    "By Seth Lindokken\n",
    "\n",
    "## Goal\n",
    "\n",
    "The goal of this note is to illustrate the trade-offs between OLS and LASSO methods for linear regression on a particular dataset. \n",
    "\n",
    "## Summary of Linear Regression, OLS, and LASSO\n",
    "\n",
    "Linear regression seeks to predict/explain the behavior of a (continuous) target variable in terms of one or more predictor variables using a linear function. In short, given a target variable $Y$ and predictor variables $X_{1},...,X_{p}$, we construct a model\n",
    "\n",
    "$\\hat{Y} = \\hat{\\beta_{0}} + \\hat{\\beta_{1}}X_{1} + ... + \\hat{\\beta_{p}}X_{p}$\n",
    "\n",
    "that approximates the true population model\n",
    "\n",
    "$Y = \\beta_{0} + \\beta_{1}X_{1} + ... + \\beta_{p}X_{p} + \\epsilon$\n",
    "\n",
    "where $\\beta_{j}$ represents the change in $Y$ given an increase in $X_{j}$ of 1 (holding all other predictor variables constant), $\\epsilon$ represents the part of $Y$ that is unexplained by the $X_{i}$'s, and $\\beta_{0}$ is a correction factor.\n",
    "\n",
    "While there are a variety of approaches for estimating these model parameters, two of the most common are Ordinary Least Squares (OLS) and Least Absolute Shrinkage and Selection Operator (LASSO).\n",
    "\n",
    "OLS is arguably the most common approach, and for good reason. The Gauss-Markov Theorem states that OLS produces unbiased estimates of the $\\beta_{j}$'s. Moreover, it states that among all unbiased estimates, the estimates produced by OLS have the lowest variance.\n",
    "\n",
    "LASSO (popularized by Tibshirani, 1996) provides a certain trade-off. It uses a similar optimizataion scheme as OLS, but imposes a restriction on the total magnitude of the slope coefficients. On the one hand, this restriction will produce biased estimates. On the other hand, it will often provide a desirable reduction in the variance of the estimates.\n",
    "\n",
    "## Methods\n",
    "\n",
    "Using data from various countries compiled by the World Health Organization (which can be found [here](https://www.kaggle.com/kumarajarshi/life-expectancy-who) on Kaggle, thanks to user KamarRajarshi), we will form our simulated population and fit a population regression model. This model will use a variety of health indicators to explain life expectancy. The explanatory variable we wish to analyze is HIV/AIDS (which measures the prevalence of HIV/AIDS related deaths in a given country).\n",
    "\n",
    "Our analysis of the HIV/AIDS slope coefficients under OLS and LASSO regression will be facilitated by a Monte Carlo simulation. We will take repeated samples from the population and train OLS and LASSO regression models on each sample, recording the HIV/AIDS slope coefficients from each model. Finally, we will analyze the distribution of the resulting slope coefficients.\n",
    "\n",
    "## Note\n",
    "\n",
    "For additional information on linear regression, including specifics on OLS and LASSO, see [An Introduction to Statistical Learning](http://www-bcf.usc.edu/~gareth/ISL/), among many others."
   ]
  },
  {
   "cell_type": "markdown",
   "metadata": {},
   "source": [
    "## Constructing the Population\n",
    "\n",
    "We begin by importing the usual libraries and reading in the data."
   ]
  },
  {
   "cell_type": "code",
   "execution_count": 45,
   "metadata": {},
   "outputs": [],
   "source": [
    "import numpy as np\n",
    "import pandas as pd\n",
    "import matplotlib.pyplot as plt\n",
    "import seaborn as sns\n",
    "%matplotlib inline"
   ]
  },
  {
   "cell_type": "code",
   "execution_count": 46,
   "metadata": {},
   "outputs": [
    {
     "data": {
      "text/html": [
       "<div>\n",
       "<style scoped>\n",
       "    .dataframe tbody tr th:only-of-type {\n",
       "        vertical-align: middle;\n",
       "    }\n",
       "\n",
       "    .dataframe tbody tr th {\n",
       "        vertical-align: top;\n",
       "    }\n",
       "\n",
       "    .dataframe thead th {\n",
       "        text-align: right;\n",
       "    }\n",
       "</style>\n",
       "<table border=\"1\" class=\"dataframe\">\n",
       "  <thead>\n",
       "    <tr style=\"text-align: right;\">\n",
       "      <th></th>\n",
       "      <th>Country</th>\n",
       "      <th>Year</th>\n",
       "      <th>Status</th>\n",
       "      <th>Life expectancy</th>\n",
       "      <th>Adult Mortality</th>\n",
       "      <th>infant deaths</th>\n",
       "      <th>Alcohol</th>\n",
       "      <th>percentage expenditure</th>\n",
       "      <th>Hepatitis B</th>\n",
       "      <th>Measles</th>\n",
       "      <th>...</th>\n",
       "      <th>Polio</th>\n",
       "      <th>Total expenditure</th>\n",
       "      <th>Diphtheria</th>\n",
       "      <th>HIV/AIDS</th>\n",
       "      <th>GDP</th>\n",
       "      <th>Population</th>\n",
       "      <th>thinness  1-19 years</th>\n",
       "      <th>thinness 5-9 years</th>\n",
       "      <th>Income composition of resources</th>\n",
       "      <th>Schooling</th>\n",
       "    </tr>\n",
       "  </thead>\n",
       "  <tbody>\n",
       "    <tr>\n",
       "      <th>0</th>\n",
       "      <td>Afghanistan</td>\n",
       "      <td>2015</td>\n",
       "      <td>Developing</td>\n",
       "      <td>65.0</td>\n",
       "      <td>263.0</td>\n",
       "      <td>62</td>\n",
       "      <td>0.01</td>\n",
       "      <td>71.279624</td>\n",
       "      <td>65.0</td>\n",
       "      <td>1154</td>\n",
       "      <td>...</td>\n",
       "      <td>6.0</td>\n",
       "      <td>8.16</td>\n",
       "      <td>65.0</td>\n",
       "      <td>0.1</td>\n",
       "      <td>584.259210</td>\n",
       "      <td>33736494.0</td>\n",
       "      <td>17.2</td>\n",
       "      <td>17.3</td>\n",
       "      <td>0.479</td>\n",
       "      <td>10.1</td>\n",
       "    </tr>\n",
       "    <tr>\n",
       "      <th>1</th>\n",
       "      <td>Afghanistan</td>\n",
       "      <td>2014</td>\n",
       "      <td>Developing</td>\n",
       "      <td>59.9</td>\n",
       "      <td>271.0</td>\n",
       "      <td>64</td>\n",
       "      <td>0.01</td>\n",
       "      <td>73.523582</td>\n",
       "      <td>62.0</td>\n",
       "      <td>492</td>\n",
       "      <td>...</td>\n",
       "      <td>58.0</td>\n",
       "      <td>8.18</td>\n",
       "      <td>62.0</td>\n",
       "      <td>0.1</td>\n",
       "      <td>612.696514</td>\n",
       "      <td>327582.0</td>\n",
       "      <td>17.5</td>\n",
       "      <td>17.5</td>\n",
       "      <td>0.476</td>\n",
       "      <td>10.0</td>\n",
       "    </tr>\n",
       "    <tr>\n",
       "      <th>2</th>\n",
       "      <td>Afghanistan</td>\n",
       "      <td>2013</td>\n",
       "      <td>Developing</td>\n",
       "      <td>59.9</td>\n",
       "      <td>268.0</td>\n",
       "      <td>66</td>\n",
       "      <td>0.01</td>\n",
       "      <td>73.219243</td>\n",
       "      <td>64.0</td>\n",
       "      <td>430</td>\n",
       "      <td>...</td>\n",
       "      <td>62.0</td>\n",
       "      <td>8.13</td>\n",
       "      <td>64.0</td>\n",
       "      <td>0.1</td>\n",
       "      <td>631.744976</td>\n",
       "      <td>31731688.0</td>\n",
       "      <td>17.7</td>\n",
       "      <td>17.7</td>\n",
       "      <td>0.470</td>\n",
       "      <td>9.9</td>\n",
       "    </tr>\n",
       "    <tr>\n",
       "      <th>3</th>\n",
       "      <td>Afghanistan</td>\n",
       "      <td>2012</td>\n",
       "      <td>Developing</td>\n",
       "      <td>59.5</td>\n",
       "      <td>272.0</td>\n",
       "      <td>69</td>\n",
       "      <td>0.01</td>\n",
       "      <td>78.184215</td>\n",
       "      <td>67.0</td>\n",
       "      <td>2787</td>\n",
       "      <td>...</td>\n",
       "      <td>67.0</td>\n",
       "      <td>8.52</td>\n",
       "      <td>67.0</td>\n",
       "      <td>0.1</td>\n",
       "      <td>669.959000</td>\n",
       "      <td>3696958.0</td>\n",
       "      <td>17.9</td>\n",
       "      <td>18.0</td>\n",
       "      <td>0.463</td>\n",
       "      <td>9.8</td>\n",
       "    </tr>\n",
       "    <tr>\n",
       "      <th>4</th>\n",
       "      <td>Afghanistan</td>\n",
       "      <td>2011</td>\n",
       "      <td>Developing</td>\n",
       "      <td>59.2</td>\n",
       "      <td>275.0</td>\n",
       "      <td>71</td>\n",
       "      <td>0.01</td>\n",
       "      <td>7.097109</td>\n",
       "      <td>68.0</td>\n",
       "      <td>3013</td>\n",
       "      <td>...</td>\n",
       "      <td>68.0</td>\n",
       "      <td>7.87</td>\n",
       "      <td>68.0</td>\n",
       "      <td>0.1</td>\n",
       "      <td>63.537231</td>\n",
       "      <td>2978599.0</td>\n",
       "      <td>18.2</td>\n",
       "      <td>18.2</td>\n",
       "      <td>0.454</td>\n",
       "      <td>9.5</td>\n",
       "    </tr>\n",
       "  </tbody>\n",
       "</table>\n",
       "<p>5 rows × 22 columns</p>\n",
       "</div>"
      ],
      "text/plain": [
       "       Country  Year      Status  Life expectancy   Adult Mortality  \\\n",
       "0  Afghanistan  2015  Developing              65.0            263.0   \n",
       "1  Afghanistan  2014  Developing              59.9            271.0   \n",
       "2  Afghanistan  2013  Developing              59.9            268.0   \n",
       "3  Afghanistan  2012  Developing              59.5            272.0   \n",
       "4  Afghanistan  2011  Developing              59.2            275.0   \n",
       "\n",
       "   infant deaths  Alcohol  percentage expenditure  Hepatitis B  Measles   \\\n",
       "0             62     0.01               71.279624         65.0      1154   \n",
       "1             64     0.01               73.523582         62.0       492   \n",
       "2             66     0.01               73.219243         64.0       430   \n",
       "3             69     0.01               78.184215         67.0      2787   \n",
       "4             71     0.01                7.097109         68.0      3013   \n",
       "\n",
       "     ...      Polio  Total expenditure  Diphtheria    HIV/AIDS         GDP  \\\n",
       "0    ...        6.0               8.16         65.0        0.1  584.259210   \n",
       "1    ...       58.0               8.18         62.0        0.1  612.696514   \n",
       "2    ...       62.0               8.13         64.0        0.1  631.744976   \n",
       "3    ...       67.0               8.52         67.0        0.1  669.959000   \n",
       "4    ...       68.0               7.87         68.0        0.1   63.537231   \n",
       "\n",
       "   Population   thinness  1-19 years   thinness 5-9 years  \\\n",
       "0  33736494.0                   17.2                 17.3   \n",
       "1    327582.0                   17.5                 17.5   \n",
       "2  31731688.0                   17.7                 17.7   \n",
       "3   3696958.0                   17.9                 18.0   \n",
       "4   2978599.0                   18.2                 18.2   \n",
       "\n",
       "   Income composition of resources  Schooling  \n",
       "0                            0.479       10.1  \n",
       "1                            0.476       10.0  \n",
       "2                            0.470        9.9  \n",
       "3                            0.463        9.8  \n",
       "4                            0.454        9.5  \n",
       "\n",
       "[5 rows x 22 columns]"
      ]
     },
     "execution_count": 46,
     "metadata": {},
     "output_type": "execute_result"
    }
   ],
   "source": [
    "life = pd.read_csv('Life Expectancy Data.csv')\n",
    "life.head()"
   ]
  },
  {
   "cell_type": "markdown",
   "metadata": {},
   "source": [
    "While an earnest, top-to-bottom analysis of the data would likely warrant a more intentional treatment of missing data, for our purposes we will be content with simply dropping it.\n",
    "\n",
    "There were two columns (Polio and Diphtheria) that appear to have minor data entry issues. A handful of entries from each indicated vaccination rates below 10%, which were almost certainly intended to be 10 times the value that was entered. We adjust accordingly. \n",
    "\n",
    "On the other hand, a quick perusal of remaining the data shows that certain columns have significant accuracy issues that are essentially beyond salvaging. We will eliminate these as well."
   ]
  },
  {
   "cell_type": "code",
   "execution_count": 47,
   "metadata": {},
   "outputs": [],
   "source": [
    "life.dropna(inplace=True)"
   ]
  },
  {
   "cell_type": "code",
   "execution_count": 48,
   "metadata": {
    "scrolled": true
   },
   "outputs": [],
   "source": [
    "life['Polio'] = life['Polio'].apply(lambda x: x*10 if x < 10 else x)\n",
    "life['Diphtheria '] = life['Diphtheria '].apply(lambda x: x*10 if x < 10 else x)"
   ]
  },
  {
   "cell_type": "code",
   "execution_count": 49,
   "metadata": {},
   "outputs": [],
   "source": [
    "life.drop(columns=['Country','Status','Measles ','GDP','Population', \n",
    "                   ' BMI ','percentage expenditure','infant deaths','under-five deaths ',\n",
    "                   'Adult Mortality',' thinness  1-19 years'],axis=1,inplace=True)"
   ]
  },
  {
   "cell_type": "code",
   "execution_count": 50,
   "metadata": {},
   "outputs": [],
   "source": [
    "life['Year'],life['Life expectancy '] = life['Life expectancy '],life['Year']\n",
    "col_list = list(life)\n",
    "col_list[0],col_list[1] = col_list[1],col_list[0]\n",
    "life.columns = col_list"
   ]
  },
  {
   "cell_type": "code",
   "execution_count": 51,
   "metadata": {},
   "outputs": [
    {
     "data": {
      "text/html": [
       "<div>\n",
       "<style scoped>\n",
       "    .dataframe tbody tr th:only-of-type {\n",
       "        vertical-align: middle;\n",
       "    }\n",
       "\n",
       "    .dataframe tbody tr th {\n",
       "        vertical-align: top;\n",
       "    }\n",
       "\n",
       "    .dataframe thead th {\n",
       "        text-align: right;\n",
       "    }\n",
       "</style>\n",
       "<table border=\"1\" class=\"dataframe\">\n",
       "  <thead>\n",
       "    <tr style=\"text-align: right;\">\n",
       "      <th></th>\n",
       "      <th>Life expectancy</th>\n",
       "      <th>Year</th>\n",
       "      <th>Alcohol</th>\n",
       "      <th>Hepatitis B</th>\n",
       "      <th>Polio</th>\n",
       "      <th>Total expenditure</th>\n",
       "      <th>Diphtheria</th>\n",
       "      <th>HIV/AIDS</th>\n",
       "      <th>thinness 5-9 years</th>\n",
       "      <th>Income composition of resources</th>\n",
       "      <th>Schooling</th>\n",
       "    </tr>\n",
       "  </thead>\n",
       "  <tbody>\n",
       "    <tr>\n",
       "      <th>0</th>\n",
       "      <td>65.0</td>\n",
       "      <td>2015</td>\n",
       "      <td>0.01</td>\n",
       "      <td>65.0</td>\n",
       "      <td>60.0</td>\n",
       "      <td>8.16</td>\n",
       "      <td>65.0</td>\n",
       "      <td>0.1</td>\n",
       "      <td>17.3</td>\n",
       "      <td>0.479</td>\n",
       "      <td>10.1</td>\n",
       "    </tr>\n",
       "    <tr>\n",
       "      <th>1</th>\n",
       "      <td>59.9</td>\n",
       "      <td>2014</td>\n",
       "      <td>0.01</td>\n",
       "      <td>62.0</td>\n",
       "      <td>58.0</td>\n",
       "      <td>8.18</td>\n",
       "      <td>62.0</td>\n",
       "      <td>0.1</td>\n",
       "      <td>17.5</td>\n",
       "      <td>0.476</td>\n",
       "      <td>10.0</td>\n",
       "    </tr>\n",
       "    <tr>\n",
       "      <th>2</th>\n",
       "      <td>59.9</td>\n",
       "      <td>2013</td>\n",
       "      <td>0.01</td>\n",
       "      <td>64.0</td>\n",
       "      <td>62.0</td>\n",
       "      <td>8.13</td>\n",
       "      <td>64.0</td>\n",
       "      <td>0.1</td>\n",
       "      <td>17.7</td>\n",
       "      <td>0.470</td>\n",
       "      <td>9.9</td>\n",
       "    </tr>\n",
       "    <tr>\n",
       "      <th>3</th>\n",
       "      <td>59.5</td>\n",
       "      <td>2012</td>\n",
       "      <td>0.01</td>\n",
       "      <td>67.0</td>\n",
       "      <td>67.0</td>\n",
       "      <td>8.52</td>\n",
       "      <td>67.0</td>\n",
       "      <td>0.1</td>\n",
       "      <td>18.0</td>\n",
       "      <td>0.463</td>\n",
       "      <td>9.8</td>\n",
       "    </tr>\n",
       "    <tr>\n",
       "      <th>4</th>\n",
       "      <td>59.2</td>\n",
       "      <td>2011</td>\n",
       "      <td>0.01</td>\n",
       "      <td>68.0</td>\n",
       "      <td>68.0</td>\n",
       "      <td>7.87</td>\n",
       "      <td>68.0</td>\n",
       "      <td>0.1</td>\n",
       "      <td>18.2</td>\n",
       "      <td>0.454</td>\n",
       "      <td>9.5</td>\n",
       "    </tr>\n",
       "  </tbody>\n",
       "</table>\n",
       "</div>"
      ],
      "text/plain": [
       "   Life expectancy   Year  Alcohol  Hepatitis B  Polio  Total expenditure  \\\n",
       "0              65.0  2015     0.01         65.0   60.0               8.16   \n",
       "1              59.9  2014     0.01         62.0   58.0               8.18   \n",
       "2              59.9  2013     0.01         64.0   62.0               8.13   \n",
       "3              59.5  2012     0.01         67.0   67.0               8.52   \n",
       "4              59.2  2011     0.01         68.0   68.0               7.87   \n",
       "\n",
       "   Diphtheria    HIV/AIDS   thinness 5-9 years  \\\n",
       "0         65.0        0.1                 17.3   \n",
       "1         62.0        0.1                 17.5   \n",
       "2         64.0        0.1                 17.7   \n",
       "3         67.0        0.1                 18.0   \n",
       "4         68.0        0.1                 18.2   \n",
       "\n",
       "   Income composition of resources  Schooling  \n",
       "0                            0.479       10.1  \n",
       "1                            0.476       10.0  \n",
       "2                            0.470        9.9  \n",
       "3                            0.463        9.8  \n",
       "4                            0.454        9.5  "
      ]
     },
     "execution_count": 51,
     "metadata": {},
     "output_type": "execute_result"
    }
   ],
   "source": [
    "life.head()"
   ]
  },
  {
   "cell_type": "markdown",
   "metadata": {},
   "source": [
    "As evidenced by the plot below, there is a non-linear relationship between Life expectancy and HIV/AIDS. To remedy this (at least partially), we perform a log transform of the HIV/AIDS column."
   ]
  },
  {
   "cell_type": "code",
   "execution_count": 52,
   "metadata": {
    "scrolled": true
   },
   "outputs": [
    {
     "name": "stderr",
     "output_type": "stream",
     "text": [
      "C:\\Users\\lindset\\Anaconda3\\lib\\site-packages\\scipy\\stats\\stats.py:1713: FutureWarning: Using a non-tuple sequence for multidimensional indexing is deprecated; use `arr[tuple(seq)]` instead of `arr[seq]`. In the future this will be interpreted as an array index, `arr[np.array(seq)]`, which will result either in an error or a different result.\n",
      "  return np.add.reduce(sorted[indexer] * weights, axis=axis) / sumval\n"
     ]
    },
    {
     "data": {
      "text/plain": [
       "<seaborn.axisgrid.JointGrid at 0x9313c61e48>"
      ]
     },
     "execution_count": 52,
     "metadata": {},
     "output_type": "execute_result"
    },
    {
     "data": {
      "image/png": "[encoded data removed]",
      "text/plain": [
       "<Figure size 432x432 with 3 Axes>"
      ]
     },
     "metadata": {
      "needs_background": "light"
     },
     "output_type": "display_data"
    }
   ],
   "source": [
    "sns.jointplot(x=' HIV/AIDS',y='Life expectancy ',data=life)"
   ]
  },
  {
   "cell_type": "code",
   "execution_count": 53,
   "metadata": {
    "scrolled": true
   },
   "outputs": [],
   "source": [
    "life[' HIV/AIDS'] = np.log(life[' HIV/AIDS'])"
   ]
  },
  {
   "cell_type": "code",
   "execution_count": 54,
   "metadata": {},
   "outputs": [
    {
     "name": "stderr",
     "output_type": "stream",
     "text": [
      "C:\\Users\\lindset\\Anaconda3\\lib\\site-packages\\scipy\\stats\\stats.py:1713: FutureWarning: Using a non-tuple sequence for multidimensional indexing is deprecated; use `arr[tuple(seq)]` instead of `arr[seq]`. In the future this will be interpreted as an array index, `arr[np.array(seq)]`, which will result either in an error or a different result.\n",
      "  return np.add.reduce(sorted[indexer] * weights, axis=axis) / sumval\n"
     ]
    },
    {
     "data": {
      "text/plain": [
       "<seaborn.axisgrid.JointGrid at 0x9313d67748>"
      ]
     },
     "execution_count": 54,
     "metadata": {},
     "output_type": "execute_result"
    },
    {
     "data": {
      "image/png": "[encoded data removed]",
      "text/plain": [
       "<Figure size 432x432 with 3 Axes>"
      ]
     },
     "metadata": {
      "needs_background": "light"
     },
     "output_type": "display_data"
    }
   ],
   "source": [
    "sns.jointplot(x=' HIV/AIDS',y='Life expectancy ',data=life)"
   ]
  },
  {
   "cell_type": "markdown",
   "metadata": {},
   "source": [
    "Next we import our linear models: OLS Regression and LASSO Regression. Due to LASSO's sensitivity to scale, we will also need to scale our predictor variables."
   ]
  },
  {
   "cell_type": "code",
   "execution_count": 55,
   "metadata": {},
   "outputs": [],
   "source": [
    "from sklearn.preprocessing import StandardScaler\n",
    "from sklearn.linear_model import LinearRegression,Lasso"
   ]
  },
  {
   "cell_type": "code",
   "execution_count": 56,
   "metadata": {},
   "outputs": [],
   "source": [
    "feat = life[life.columns[1:]]\n",
    "scaler = StandardScaler()\n",
    "scaler.fit(feat)\n",
    "scaled_features = scaler.transform(feat)"
   ]
  },
  {
   "cell_type": "code",
   "execution_count": 57,
   "metadata": {},
   "outputs": [],
   "source": [
    "X = pd.DataFrame(scaled_features,columns=feat.columns)\n",
    "y = life[['Life expectancy ']].reset_index().drop(columns=['index'])\n",
    "life = y.join(X)"
   ]
  },
  {
   "cell_type": "markdown",
   "metadata": {},
   "source": [
    "The \"life\" dataframe now serves as our population."
   ]
  },
  {
   "cell_type": "code",
   "execution_count": 58,
   "metadata": {
    "scrolled": true
   },
   "outputs": [
    {
     "data": {
      "text/html": [
       "<div>\n",
       "<style scoped>\n",
       "    .dataframe tbody tr th:only-of-type {\n",
       "        vertical-align: middle;\n",
       "    }\n",
       "\n",
       "    .dataframe tbody tr th {\n",
       "        vertical-align: top;\n",
       "    }\n",
       "\n",
       "    .dataframe thead th {\n",
       "        text-align: right;\n",
       "    }\n",
       "</style>\n",
       "<table border=\"1\" class=\"dataframe\">\n",
       "  <thead>\n",
       "    <tr style=\"text-align: right;\">\n",
       "      <th></th>\n",
       "      <th>Life expectancy</th>\n",
       "      <th>Year</th>\n",
       "      <th>Alcohol</th>\n",
       "      <th>Hepatitis B</th>\n",
       "      <th>Polio</th>\n",
       "      <th>Total expenditure</th>\n",
       "      <th>Diphtheria</th>\n",
       "      <th>HIV/AIDS</th>\n",
       "      <th>thinness 5-9 years</th>\n",
       "      <th>Income composition of resources</th>\n",
       "      <th>Schooling</th>\n",
       "    </tr>\n",
       "  </thead>\n",
       "  <tbody>\n",
       "    <tr>\n",
       "      <th>0</th>\n",
       "      <td>65.0</td>\n",
       "      <td>1.751998</td>\n",
       "      <td>-1.122948</td>\n",
       "      <td>-0.555446</td>\n",
       "      <td>-2.235644</td>\n",
       "      <td>0.958840</td>\n",
       "      <td>-1.833131</td>\n",
       "      <td>-0.680808</td>\n",
       "      <td>2.663654</td>\n",
       "      <td>-0.833462</td>\n",
       "      <td>-0.722799</td>\n",
       "    </tr>\n",
       "    <tr>\n",
       "      <th>1</th>\n",
       "      <td>59.9</td>\n",
       "      <td>1.507289</td>\n",
       "      <td>-1.122948</td>\n",
       "      <td>-0.672648</td>\n",
       "      <td>-2.396041</td>\n",
       "      <td>0.967541</td>\n",
       "      <td>-2.073172</td>\n",
       "      <td>-0.680808</td>\n",
       "      <td>2.706643</td>\n",
       "      <td>-0.849853</td>\n",
       "      <td>-0.758583</td>\n",
       "    </tr>\n",
       "    <tr>\n",
       "      <th>2</th>\n",
       "      <td>59.9</td>\n",
       "      <td>1.262579</td>\n",
       "      <td>-1.122948</td>\n",
       "      <td>-0.594514</td>\n",
       "      <td>-2.075246</td>\n",
       "      <td>0.945790</td>\n",
       "      <td>-1.913145</td>\n",
       "      <td>-0.680808</td>\n",
       "      <td>2.749632</td>\n",
       "      <td>-0.882634</td>\n",
       "      <td>-0.794367</td>\n",
       "    </tr>\n",
       "    <tr>\n",
       "      <th>3</th>\n",
       "      <td>59.5</td>\n",
       "      <td>1.017869</td>\n",
       "      <td>-1.122948</td>\n",
       "      <td>-0.477312</td>\n",
       "      <td>-1.674252</td>\n",
       "      <td>1.115452</td>\n",
       "      <td>-1.673104</td>\n",
       "      <td>-0.680808</td>\n",
       "      <td>2.814116</td>\n",
       "      <td>-0.920878</td>\n",
       "      <td>-0.830151</td>\n",
       "    </tr>\n",
       "    <tr>\n",
       "      <th>4</th>\n",
       "      <td>59.2</td>\n",
       "      <td>0.773159</td>\n",
       "      <td>-1.122948</td>\n",
       "      <td>-0.438245</td>\n",
       "      <td>-1.594054</td>\n",
       "      <td>0.832682</td>\n",
       "      <td>-1.593091</td>\n",
       "      <td>-0.680808</td>\n",
       "      <td>2.857105</td>\n",
       "      <td>-0.970049</td>\n",
       "      <td>-0.937503</td>\n",
       "    </tr>\n",
       "  </tbody>\n",
       "</table>\n",
       "</div>"
      ],
      "text/plain": [
       "   Life expectancy       Year   Alcohol  Hepatitis B     Polio  \\\n",
       "0              65.0  1.751998 -1.122948    -0.555446 -2.235644   \n",
       "1              59.9  1.507289 -1.122948    -0.672648 -2.396041   \n",
       "2              59.9  1.262579 -1.122948    -0.594514 -2.075246   \n",
       "3              59.5  1.017869 -1.122948    -0.477312 -1.674252   \n",
       "4              59.2  0.773159 -1.122948    -0.438245 -1.594054   \n",
       "\n",
       "   Total expenditure  Diphtheria    HIV/AIDS   thinness 5-9 years  \\\n",
       "0           0.958840    -1.833131  -0.680808             2.663654   \n",
       "1           0.967541    -2.073172  -0.680808             2.706643   \n",
       "2           0.945790    -1.913145  -0.680808             2.749632   \n",
       "3           1.115452    -1.673104  -0.680808             2.814116   \n",
       "4           0.832682    -1.593091  -0.680808             2.857105   \n",
       "\n",
       "   Income composition of resources  Schooling  \n",
       "0                        -0.833462  -0.722799  \n",
       "1                        -0.849853  -0.758583  \n",
       "2                        -0.882634  -0.794367  \n",
       "3                        -0.920878  -0.830151  \n",
       "4                        -0.970049  -0.937503  "
      ]
     },
     "execution_count": 58,
     "metadata": {},
     "output_type": "execute_result"
    }
   ],
   "source": [
    "life.head()"
   ]
  },
  {
   "cell_type": "code",
   "execution_count": 59,
   "metadata": {},
   "outputs": [
    {
     "data": {
      "text/plain": [
       "<matplotlib.axes._subplots.AxesSubplot at 0x931430f828>"
      ]
     },
     "execution_count": 59,
     "metadata": {},
     "output_type": "execute_result"
    },
    {
     "data": {
      "image/png": "[encoded data removed]",
      "text/plain": [
       "<Figure size 432x288 with 2 Axes>"
      ]
     },
     "metadata": {
      "needs_background": "light"
     },
     "output_type": "display_data"
    }
   ],
   "source": [
    "sns.heatmap(life.corr())"
   ]
  },
  {
   "cell_type": "markdown",
   "metadata": {},
   "source": [
    "## The Population Regression Model\n",
    "\n",
    "We now obtain the population slope coefficients."
   ]
  },
  {
   "cell_type": "code",
   "execution_count": 60,
   "metadata": {},
   "outputs": [],
   "source": [
    "popmodel = LinearRegression()\n",
    "popmodel.fit(X,y)\n",
    "pop_coeff = pd.DataFrame(popmodel.coef_.reshape(10,),X.columns,columns=['Population Slope Coefficients'])"
   ]
  },
  {
   "cell_type": "code",
   "execution_count": 61,
   "metadata": {},
   "outputs": [
    {
     "data": {
      "text/html": [
       "<div>\n",
       "<style scoped>\n",
       "    .dataframe tbody tr th:only-of-type {\n",
       "        vertical-align: middle;\n",
       "    }\n",
       "\n",
       "    .dataframe tbody tr th {\n",
       "        vertical-align: top;\n",
       "    }\n",
       "\n",
       "    .dataframe thead th {\n",
       "        text-align: right;\n",
       "    }\n",
       "</style>\n",
       "<table border=\"1\" class=\"dataframe\">\n",
       "  <thead>\n",
       "    <tr style=\"text-align: right;\">\n",
       "      <th></th>\n",
       "      <th>Population Slope Coefficients</th>\n",
       "    </tr>\n",
       "  </thead>\n",
       "  <tbody>\n",
       "    <tr>\n",
       "      <th>Year</th>\n",
       "      <td>0.132723</td>\n",
       "    </tr>\n",
       "    <tr>\n",
       "      <th>Alcohol</th>\n",
       "      <td>0.002938</td>\n",
       "    </tr>\n",
       "    <tr>\n",
       "      <th>Hepatitis B</th>\n",
       "      <td>-0.417175</td>\n",
       "    </tr>\n",
       "    <tr>\n",
       "      <th>Polio</th>\n",
       "      <td>-0.657246</td>\n",
       "    </tr>\n",
       "    <tr>\n",
       "      <th>Total expenditure</th>\n",
       "      <td>0.329635</td>\n",
       "    </tr>\n",
       "    <tr>\n",
       "      <th>Diphtheria</th>\n",
       "      <td>1.549068</td>\n",
       "    </tr>\n",
       "    <tr>\n",
       "      <th>HIV/AIDS</th>\n",
       "      <td>-4.752983</td>\n",
       "    </tr>\n",
       "    <tr>\n",
       "      <th>thinness 5-9 years</th>\n",
       "      <td>-0.736267</td>\n",
       "    </tr>\n",
       "    <tr>\n",
       "      <th>Income composition of resources</th>\n",
       "      <td>2.105787</td>\n",
       "    </tr>\n",
       "    <tr>\n",
       "      <th>Schooling</th>\n",
       "      <td>1.564463</td>\n",
       "    </tr>\n",
       "  </tbody>\n",
       "</table>\n",
       "</div>"
      ],
      "text/plain": [
       "                                 Population Slope Coefficients\n",
       "Year                                                  0.132723\n",
       "Alcohol                                               0.002938\n",
       "Hepatitis B                                          -0.417175\n",
       "Polio                                                -0.657246\n",
       "Total expenditure                                     0.329635\n",
       "Diphtheria                                            1.549068\n",
       " HIV/AIDS                                            -4.752983\n",
       " thinness 5-9 years                                  -0.736267\n",
       "Income composition of resources                       2.105787\n",
       "Schooling                                             1.564463"
      ]
     },
     "execution_count": 61,
     "metadata": {},
     "output_type": "execute_result"
    }
   ],
   "source": [
    "pop_coeff"
   ]
  },
  {
   "cell_type": "markdown",
   "metadata": {},
   "source": [
    "## The Monte Carlo Simulation\n",
    "\n",
    "Having established the population parameters, we may begin our investigation in earnest. As discussed before, we wish to compare the behavior of the \"HIV/AIDS\" coefficient under OLS and LASSO.\n",
    "\n",
    "We will perform a Monte Carlo simulation in which we take random samples from our population and use them to train OLS/LASSO models. We then record the resulting \"HIV/AIDS\" slope coefficients."
   ]
  },
  {
   "cell_type": "code",
   "execution_count": 62,
   "metadata": {},
   "outputs": [],
   "source": [
    "def OLS_Lasso_MonteCarlo(data, sample_size = 50, num_trials = 50):\n",
    "    \n",
    "    # Create an empty DataFrame where we will store our results\n",
    "    slopes = pd.DataFrame(columns = ['OLS Coefficients','LASSO Coefficients'])\n",
    "    \n",
    "    for i in range(num_trials):\n",
    "        \n",
    "        # Select a random sample from the population\n",
    "        temp_data = data.sample(n = sample_size, random_state = i)\n",
    "        \n",
    "        # Fit an OLS model to the sample and record the HIV/AIDS slope coefficient\n",
    "        ols = LinearRegression()\n",
    "        ols_model = ols.fit(temp_data.iloc[:,1:],temp_data.iloc[:,0:1])\n",
    "        ols_slope = ols_model.coef_[0][6]\n",
    "        \n",
    "        # Fit a LASSO model to the sample and record the HIV/AIDS slope coefficient\n",
    "        lasso = Lasso(alpha=0.1)\n",
    "        lasso_model = lasso.fit(temp_data.iloc[:,1:],temp_data.iloc[:,0:1])\n",
    "        lasso_slope = lasso_model.coef_[6]\n",
    "        \n",
    "        # Add the slope coefficients to the DataFrame\n",
    "        new_row = pd.DataFrame([[ols_slope,lasso_slope]],columns = ['OLS Coefficients','LASSO Coefficients'])\n",
    "        slopes = slopes.append(new_row,ignore_index=True)\n",
    "    \n",
    "    return slopes\n",
    "\n",
    "slopes = OLS_Lasso_MonteCarlo(life, sample_size = 50, num_trials = 1000)"
   ]
  },
  {
   "cell_type": "code",
   "execution_count": 63,
   "metadata": {},
   "outputs": [
    {
     "data": {
      "text/html": [
       "<div>\n",
       "<style scoped>\n",
       "    .dataframe tbody tr th:only-of-type {\n",
       "        vertical-align: middle;\n",
       "    }\n",
       "\n",
       "    .dataframe tbody tr th {\n",
       "        vertical-align: top;\n",
       "    }\n",
       "\n",
       "    .dataframe thead th {\n",
       "        text-align: right;\n",
       "    }\n",
       "</style>\n",
       "<table border=\"1\" class=\"dataframe\">\n",
       "  <thead>\n",
       "    <tr style=\"text-align: right;\">\n",
       "      <th></th>\n",
       "      <th>OLS Coefficients</th>\n",
       "      <th>LASSO Coefficients</th>\n",
       "    </tr>\n",
       "  </thead>\n",
       "  <tbody>\n",
       "    <tr>\n",
       "      <th>0</th>\n",
       "      <td>-5.723455</td>\n",
       "      <td>-5.691964</td>\n",
       "    </tr>\n",
       "    <tr>\n",
       "      <th>1</th>\n",
       "      <td>-5.302221</td>\n",
       "      <td>-5.381181</td>\n",
       "    </tr>\n",
       "    <tr>\n",
       "      <th>2</th>\n",
       "      <td>-4.956983</td>\n",
       "      <td>-4.985749</td>\n",
       "    </tr>\n",
       "    <tr>\n",
       "      <th>3</th>\n",
       "      <td>-3.955973</td>\n",
       "      <td>-4.360399</td>\n",
       "    </tr>\n",
       "    <tr>\n",
       "      <th>4</th>\n",
       "      <td>-3.761854</td>\n",
       "      <td>-3.782387</td>\n",
       "    </tr>\n",
       "  </tbody>\n",
       "</table>\n",
       "</div>"
      ],
      "text/plain": [
       "   OLS Coefficients  LASSO Coefficients\n",
       "0         -5.723455           -5.691964\n",
       "1         -5.302221           -5.381181\n",
       "2         -4.956983           -4.985749\n",
       "3         -3.955973           -4.360399\n",
       "4         -3.761854           -3.782387"
      ]
     },
     "execution_count": 63,
     "metadata": {},
     "output_type": "execute_result"
    }
   ],
   "source": [
    "slopes.head()"
   ]
  },
  {
   "cell_type": "markdown",
   "metadata": {},
   "source": [
    "## Analyzing the Results\n",
    "\n",
    "Having collected our slope coefficients, we may begin to analyze the results. First, we use a scatterplot to visualize how the OLS/LASSO coefficients compared on a sample-by-sample basis."
   ]
  },
  {
   "cell_type": "code",
   "execution_count": 64,
   "metadata": {
    "scrolled": true
   },
   "outputs": [
    {
     "name": "stderr",
     "output_type": "stream",
     "text": [
      "C:\\Users\\lindset\\Anaconda3\\lib\\site-packages\\scipy\\stats\\stats.py:1713: FutureWarning: Using a non-tuple sequence for multidimensional indexing is deprecated; use `arr[tuple(seq)]` instead of `arr[seq]`. In the future this will be interpreted as an array index, `arr[np.array(seq)]`, which will result either in an error or a different result.\n",
      "  return np.add.reduce(sorted[indexer] * weights, axis=axis) / sumval\n"
     ]
    },
    {
     "data": {
      "text/plain": [
       "<seaborn.axisgrid.JointGrid at 0x93155f7438>"
      ]
     },
     "execution_count": 64,
     "metadata": {},
     "output_type": "execute_result"
    },
    {
     "data": {
      "image/png": "[encoded data removed]",
      "text/plain": [
       "<Figure size 432x432 with 3 Axes>"
      ]
     },
     "metadata": {
      "needs_background": "light"
     },
     "output_type": "display_data"
    }
   ],
   "source": [
    "sns.jointplot(x='OLS Coefficients', y='LASSO Coefficients', data=slopes)"
   ]
  },
  {
   "cell_type": "markdown",
   "metadata": {},
   "source": [
    "Next, we graph the distributions of the OLS Coefficients and the LASSO Coefficients."
   ]
  },
  {
   "cell_type": "code",
   "execution_count": 65,
   "metadata": {
    "scrolled": true
   },
   "outputs": [
    {
     "name": "stderr",
     "output_type": "stream",
     "text": [
      "C:\\Users\\lindset\\Anaconda3\\lib\\site-packages\\scipy\\stats\\stats.py:1713: FutureWarning: Using a non-tuple sequence for multidimensional indexing is deprecated; use `arr[tuple(seq)]` instead of `arr[seq]`. In the future this will be interpreted as an array index, `arr[np.array(seq)]`, which will result either in an error or a different result.\n",
      "  return np.add.reduce(sorted[indexer] * weights, axis=axis) / sumval\n"
     ]
    },
    {
     "data": {
      "text/plain": [
       "<matplotlib.axes._subplots.AxesSubplot at 0x93163e0eb8>"
      ]
     },
     "execution_count": 65,
     "metadata": {},
     "output_type": "execute_result"
    },
    {
     "data": {
      "image/png": "[encoded data removed]",
      "text/plain": [
       "<Figure size 864x288 with 2 Axes>"
      ]
     },
     "metadata": {
      "needs_background": "light"
     },
     "output_type": "display_data"
    }
   ],
   "source": [
    "f, axes = plt.subplots(1, 2, figsize=(12, 4), sharex=True)\n",
    "\n",
    "sns.distplot(slopes['OLS Coefficients'], bins=30, ax=axes[0])\n",
    "sns.distplot(slopes['LASSO Coefficients'], bins=30, ax=axes[1])"
   ]
  },
  {
   "cell_type": "markdown",
   "metadata": {},
   "source": [
    "Finally, we compare the means and variances of the OLS/Lasso slope coefficients."
   ]
  },
  {
   "cell_type": "code",
   "execution_count": 66,
   "metadata": {},
   "outputs": [
    {
     "data": {
      "text/plain": [
       "-4.391845156576794"
      ]
     },
     "execution_count": 66,
     "metadata": {},
     "output_type": "execute_result"
    }
   ],
   "source": [
    "slopes['OLS Coefficients'].mean()"
   ]
  },
  {
   "cell_type": "code",
   "execution_count": 67,
   "metadata": {},
   "outputs": [
    {
     "data": {
      "text/plain": [
       "-4.370066325339527"
      ]
     },
     "execution_count": 67,
     "metadata": {},
     "output_type": "execute_result"
    }
   ],
   "source": [
    "slopes['LASSO Coefficients'].mean()"
   ]
  },
  {
   "cell_type": "code",
   "execution_count": 68,
   "metadata": {
    "scrolled": false
   },
   "outputs": [
    {
     "data": {
      "text/plain": [
       "1.084964298179511"
      ]
     },
     "execution_count": 68,
     "metadata": {},
     "output_type": "execute_result"
    }
   ],
   "source": [
    "slopes['OLS Coefficients'].var()"
   ]
  },
  {
   "cell_type": "code",
   "execution_count": 69,
   "metadata": {},
   "outputs": [
    {
     "data": {
      "text/plain": [
       "0.8881079094550979"
      ]
     },
     "execution_count": 69,
     "metadata": {},
     "output_type": "execute_result"
    }
   ],
   "source": [
    "slopes['LASSO Coefficients'].var()"
   ]
  },
  {
   "cell_type": "markdown",
   "metadata": {},
   "source": [
    "## Conclusion\n",
    "\n",
    "We can see that, in this case, the LASSO method for fitting linear models performed as advertised. On average, it produced slope coefficients for the HIV/AIDS variable that were slightly farther away from the population slope coefficient (-4.75) than the OLS method. On the other hand, the LASSO method also saw an 18% reduction in the variance of the slope coefficients as compared to the OLS method.\n",
    "\n",
    "One example certainly does not tell the whole story, but we hope this was an informative illustration/comparison of the OLS and LASSO methods in linear regression."
   ]
  }
 ],
 "metadata": {
  "kernelspec": {
   "display_name": "Python 3",
   "language": "python",
   "name": "python3"
  },
  "language_info": {
   "codemirror_mode": {
    "name": "ipython",
    "version": 3
   },
   "file_extension": ".py",
   "mimetype": "text/x-python",
   "name": "python",
   "nbconvert_exporter": "python",
   "pygments_lexer": "ipython3",
   "version": "3.7.0"
  }
 },
 "nbformat": 4,
 "nbformat_minor": 2
}
